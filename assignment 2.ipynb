{
 "cells": [
  {
   "cell_type": "code",
   "execution_count": 1,
   "metadata": {},
   "outputs": [
    {
     "name": "stdout",
     "output_type": "stream",
     "text": [
      "Enter a word: hello\n",
      "Enter another word: world\n",
      "helloworld\n"
     ]
    }
   ],
   "source": [
    "a=str(input(\"Enter a word: \"))\n",
    "b=str(input(\"Enter another word: \"))\n",
    "c=a+b\n",
    "print(c)"
   ]
  },
  {
   "cell_type": "code",
   "execution_count": 3,
   "metadata": {},
   "outputs": [
    {
     "name": "stdout",
     "output_type": "stream",
     "text": [
      "Enter a word :hello\n",
      "HELLO\n"
     ]
    }
   ],
   "source": [
    "a=input(\"Enter a word :\")\n",
    "b=a.upper()\n",
    "print(b)"
   ]
  },
  {
   "cell_type": "code",
   "execution_count": 6,
   "metadata": {},
   "outputs": [
    {
     "name": "stdout",
     "output_type": "stream",
     "text": [
      "Enter combination of uppercase and lower case alphabets: WhaT the HEll\n",
      "The number of lowercase letter in this word is \n",
      "7\n",
      "The number of uppercase letter in this word is \n",
      "4\n"
     ]
    }
   ],
   "source": [
    "a=input(\"Enter combination of uppercase and lower case alphabets: \")\n",
    "x=0\n",
    "y=0\n",
    "for i in a:\n",
    "    if i.islower():\n",
    "        x=x+1\n",
    "    elif i.isupper():\n",
    "        y=y+1\n",
    "print(\"The number of lowercase letter in this word is \")\n",
    "print(x)\n",
    "print(\"The number of uppercase letter in this word is \")\n",
    "print(y)"
   ]
  },
  {
   "cell_type": "code",
   "execution_count": 7,
   "metadata": {},
   "outputs": [
    {
     "name": "stdout",
     "output_type": "stream",
     "text": [
      "Enter a sentence: programming\n",
      "Enter a certain character about which you wants to know: i\n",
      "1\n"
     ]
    }
   ],
   "source": [
    "a= input(\"Enter a sentence: \")\n",
    "x=input(\"Enter a certain character about which you wants to know: \")\n",
    "y=0\n",
    "for i in a:\n",
    "    if i==x:\n",
    "        y=y+1\n",
    "print(y)"
   ]
  },
  {
   "cell_type": "code",
   "execution_count": 18,
   "metadata": {},
   "outputs": [
    {
     "name": "stdout",
     "output_type": "stream",
     "text": [
      "Enter a continueword : G5r75fj\n"
     ]
    }
   ],
   "source": [
    "x=input(\"Enter a continueword : \")\n",
    "y=0\n",
    "z=0\n",
    "a=0\n",
    "for i in x:\n",
    "    if i==(0,9):\n",
    "        y=y+1\n",
    "    if i.islower():\n",
    "        z+=1\n",
    "    elif i.isupper:\n",
    "        a+=1\n",
    "    if len(x)<6:\n",
    "        print(\"not valid\")\n",
    "    else:\n",
    "        continue\n",
    "    if len(x)>12:\n",
    "        print(\"not valid\")\n",
    "    else:\n",
    "        continue\n",
    "    if y==0:\n",
    "        print(\"not valid\")\n",
    "    else:\n",
    "        continue\n",
    "    if z==0:\n",
    "        print(\"not valid\")\n",
    "    else:\n",
    "        continue\n",
    "    if a==0:\n",
    "        print(\"not valid\")\n",
    "    else:\n",
    "        print(\"correct\")\n",
    "                            "
   ]
  },
  {
   "cell_type": "code",
   "execution_count": null,
   "metadata": {},
   "outputs": [],
   "source": []
  },
  {
   "cell_type": "code",
   "execution_count": null,
   "metadata": {},
   "outputs": [],
   "source": []
  }
 ],
 "metadata": {
  "kernelspec": {
   "display_name": "Python 3",
   "language": "python",
   "name": "python3"
  },
  "language_info": {
   "codemirror_mode": {
    "name": "ipython",
    "version": 3
   },
   "file_extension": ".py",
   "mimetype": "text/x-python",
   "name": "python",
   "nbconvert_exporter": "python",
   "pygments_lexer": "ipython3",
   "version": "3.7.3"
  }
 },
 "nbformat": 4,
 "nbformat_minor": 2
}
